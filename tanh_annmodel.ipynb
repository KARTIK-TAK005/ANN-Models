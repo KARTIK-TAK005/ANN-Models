{
 "cells": [
  {
   "cell_type": "code",
   "execution_count": 1,
   "id": "6f7bd11c",
   "metadata": {},
   "outputs": [],
   "source": [
    "import numpy as np\n",
    "import matplotlib.pyplot as plt\n",
    "%matplotlib inline"
   ]
  },
  {
   "cell_type": "code",
   "execution_count": 2,
   "id": "6c61c8c7",
   "metadata": {},
   "outputs": [
    {
     "data": {
      "text/plain": [
       "array([[0, 1],\n",
       "       [1, 0],\n",
       "       [1, 1],\n",
       "       [0, 0]])"
      ]
     },
     "execution_count": 2,
     "metadata": {},
     "output_type": "execute_result"
    }
   ],
   "source": [
    "X = np.array([ [0, 1], [1,0], [1, 1], [0, 0] ])\n",
    "X"
   ]
  },
  {
   "cell_type": "code",
   "execution_count": 3,
   "id": "b0c14533",
   "metadata": {},
   "outputs": [
    {
     "data": {
      "text/plain": [
       "array([[1],\n",
       "       [1],\n",
       "       [0],\n",
       "       [0]])"
      ]
     },
     "execution_count": 3,
     "metadata": {},
     "output_type": "execute_result"
    }
   ],
   "source": [
    "y = np.array([ [1], [1], [0], [0] ])\n",
    "y"
   ]
  },
  {
   "cell_type": "code",
   "execution_count": 4,
   "id": "3cc802ae",
   "metadata": {},
   "outputs": [],
   "source": [
    "n_input = 2\n",
    "n_hidden = 5\n",
    "n_output = 1"
   ]
  },
  {
   "cell_type": "code",
   "execution_count": 5,
   "id": "c0c56935",
   "metadata": {},
   "outputs": [],
   "source": [
    "Wxh = np.random.randn(n_input, n_output)\n",
    "bh = np.zeros((1, n_hidden))"
   ]
  },
  {
   "cell_type": "code",
   "execution_count": 6,
   "id": "ee75b35b",
   "metadata": {},
   "outputs": [],
   "source": [
    "Why = np.random.randn(n_hidden, n_output)\n",
    "by = np.zeros((1, n_output))"
   ]
  },
  {
   "cell_type": "code",
   "execution_count": 7,
   "id": "2668c255",
   "metadata": {},
   "outputs": [],
   "source": [
    "def tanh(z):\n",
    "    numerator = 1 - (np.exp(-2*z))\n",
    "    denominator = 1 + (np.exp(-2*z))\n",
    "    return numerator/denominator"
   ]
  },
  {
   "cell_type": "code",
   "execution_count": 29,
   "id": "02c38859",
   "metadata": {},
   "outputs": [],
   "source": [
    "def tanh_derivative(z):\n",
    "    return (4 * np.exp(-2*z)) / (1 + np.exp(-2*z)**2)"
   ]
  },
  {
   "cell_type": "code",
   "execution_count": 30,
   "id": "3583343b",
   "metadata": {},
   "outputs": [],
   "source": [
    "def forward(X, Wxh, Why):\n",
    "    z1 = np.dot(X, Wxh) + bh\n",
    "    a1 = tanh(z1)\n",
    "    z2 = np.dot(a1, Why) + by\n",
    "    y_hat = tanh(z2)\n",
    "    return z1, a1, z2, y_hat"
   ]
  },
  {
   "cell_type": "code",
   "execution_count": 31,
   "id": "ab24efbb",
   "metadata": {},
   "outputs": [],
   "source": [
    "def backward(y_hat, z1, a1, z2):\n",
    "    delta2 = np.multiply(-(y-y_hat), tanh_derivative(z2))\n",
    "    dJ_dWhy = np.dot(a1.T, delta2)\n",
    "    delta1 = np.dot(delta2, Why.T) * tanh_derivative(z1)\n",
    "    dJ_dWxh = np.dot(X.T, delta1)\n",
    "    return dJ_dWxh, dJ_dWhy"
   ]
  },
  {
   "cell_type": "code",
   "execution_count": 32,
   "id": "622ad146",
   "metadata": {},
   "outputs": [],
   "source": [
    "def cost_f(y, y_hat):\n",
    "    J = 0.5*sum((y-y_hat)**2)\n",
    "    return J"
   ]
  },
  {
   "cell_type": "code",
   "execution_count": 33,
   "id": "c95a14ef",
   "metadata": {},
   "outputs": [],
   "source": [
    "alpha = 0.1\n",
    "num_iter = 5000"
   ]
  },
  {
   "cell_type": "code",
   "execution_count": 34,
   "id": "35d1aa1b",
   "metadata": {},
   "outputs": [],
   "source": [
    "cost = []\n",
    "for i in range(num_iter):\n",
    "    z1, a1, z2, y_hat = forward(X, Wxh, Why)\n",
    "    dJ_dWxh, dJ_dWhy = backward(y_hat, z1, a1, z2)\n",
    "    \n",
    "    Wxh = Wxh - alpha * dJ_dWxh\n",
    "    Why = Why - alpha * dJ_dWhy\n",
    "    c = cost_f(y, y_hat)\n",
    "    cost.append(c)"
   ]
  },
  {
   "cell_type": "code",
   "execution_count": 35,
   "id": "8ebd6d42",
   "metadata": {
    "scrolled": true
   },
   "outputs": [
    {
     "data": {
      "text/plain": [
       "Text(0, 0.5, 'cost')"
      ]
     },
     "execution_count": 35,
     "metadata": {},
     "output_type": "execute_result"
    },
    {
     "data": {
      "image/png": "[encoded data removed]",
      "text/plain": [
       "<Figure size 432x288 with 1 Axes>"
      ]
     },
     "metadata": {
      "needs_background": "light"
     },
     "output_type": "display_data"
    }
   ],
   "source": [
    "plt.grid()\n",
    "plt.plot(range(num_iter), cost)\n",
    "plt.title(\"cost_function\")\n",
    "plt.xlabel(\"training iter\")\n",
    "plt.ylabel(\"cost\")"
   ]
  },
  {
   "cell_type": "code",
   "execution_count": null,
   "id": "ea3d81a2",
   "metadata": {},
   "outputs": [],
   "source": []
  }
 ],
 "metadata": {
  "kernelspec": {
   "display_name": "Python 3 (ipykernel)",
   "language": "python",
   "name": "python3"
  },
  "language_info": {
   "codemirror_mode": {
    "name": "ipython",
    "version": 3
   },
   "file_extension": ".py",
   "mimetype": "text/x-python",
   "name": "python",
   "nbconvert_exporter": "python",
   "pygments_lexer": "ipython3",
   "version": "3.7.11"
  }
 },
 "nbformat": 4,
 "nbformat_minor": 5
}
