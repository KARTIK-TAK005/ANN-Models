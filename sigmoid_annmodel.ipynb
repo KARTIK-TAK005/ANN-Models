{
 "cells": [
  {
   "cell_type": "code",
   "execution_count": 11,
   "id": "e7302e53",
   "metadata": {},
   "outputs": [
    {
     "data": {
      "text/plain": [
       "Text(0, 0.5, 'cost')"
      ]
     },
     "execution_count": 11,
     "metadata": {},
     "output_type": "execute_result"
    },
    {
     "data": {
      "image/png": "[encoded data removed]",
      "text/plain": [
       "<Figure size 432x288 with 1 Axes>"
      ]
     },
     "metadata": {
      "needs_background": "light"
     },
     "output_type": "display_data"
    }
   ],
   "source": [
    "import numpy as np\n",
    "import matplotlib.pyplot as plt\n",
    "%matplotlib inline\n",
    "\n",
    "X = np.array([ [0, 1], [1,0], [1, 1], [0, 0] ])\n",
    "X\n",
    "\n",
    "y = np.array([ [1], [1], [0], [0] ])\n",
    "y\n",
    "\n",
    "n_input = 2\n",
    "n_hidden = 5\n",
    "n_output = 1\n",
    "\"\"\"The numpy. random. randn() function creates an array of specified \n",
    "hape and fills it with random values as per standard normal distribution.\"\"\"\n",
    "Wxh = np.random.randn(n_input, n_output)\n",
    "bh = np.zeros((1, n_hidden))\n",
    "\n",
    "Why = np.random.randn(n_hidden, n_output)\n",
    "by = np.zeros((1, n_output))\n",
    "\n",
    "def sigmoid(z):\n",
    "    return  1 / (1+np.exp(-z))\n",
    "\n",
    "def sigmoid_derivative(z):\n",
    "    return np.exp(-z) / ((1 + np.exp(-z)) ** 2)\n",
    "\n",
    "\n",
    "def forward(X, Wxh, Why):\n",
    "    z1 = np.dot(X, Wxh) + bh\n",
    "    a1 = sigmoid(z1)\n",
    "    z2 = np.dot(a1, Why) + by\n",
    "    y_hat = sigmoid(z2)\n",
    "    return z1, a1, z2, y_hat\n",
    "\n",
    "def backward(y_hat, z1, a1, z2):\n",
    "    delta2 = np.multiply(-(y-y_hat), sigmoid_derivative(z2))\n",
    "    dJ_dWhy = np.dot(a1.T, delta2)\n",
    "    delta1 = np.dot(delta2, Why.T) * sigmoid_derivative(z1)\n",
    "    dJ_dWxh = np.dot(X.T, delta1)\n",
    "    return dJ_dWxh, dJ_dWhy\n",
    "\n",
    "def cost_f(y, y_hat):\n",
    "    J = 0.5*sum((y-y_hat)**2)\n",
    "    return J\n",
    "\n",
    "alpha = 0.1\n",
    "num_iter = 5000\n",
    "\n",
    "cost = []\n",
    "for i in range(num_iter):\n",
    "    z1, a1, z2, y_hat = forward(X, Wxh, Why)\n",
    "    dJ_dWxh, dJ_dWhy = backward(y_hat, z1, a1, z2)\n",
    "    \n",
    "    Wxh = Wxh - alpha * dJ_dWxh\n",
    "    Why = Why - alpha * dJ_dWhy\n",
    "    c = cost_f(y, y_hat)\n",
    "    cost.append(c)\n",
    "\n",
    "plt.grid()\n",
    "plt.plot(range(num_iter), cost)\n",
    "plt.title(\"cost_function\")\n",
    "plt.xlabel(\"training iter\")\n",
    "plt.ylabel(\"cost\")"
   ]
  },
  {
   "cell_type": "code",
   "execution_count": null,
   "id": "65b2144a",
   "metadata": {},
   "outputs": [],
   "source": []
  }
 ],
 "metadata": {
  "kernelspec": {
   "display_name": "Python 3 (ipykernel)",
   "language": "python",
   "name": "python3"
  },
  "language_info": {
   "codemirror_mode": {
    "name": "ipython",
    "version": 3
   },
   "file_extension": ".py",
   "mimetype": "text/x-python",
   "name": "python",
   "nbconvert_exporter": "python",
   "pygments_lexer": "ipython3",
   "version": "3.7.11"
  }
 },
 "nbformat": 4,
 "nbformat_minor": 5
}
